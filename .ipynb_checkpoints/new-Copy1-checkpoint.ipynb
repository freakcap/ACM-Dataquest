{
 "cells": [
  {
   "cell_type": "code",
   "execution_count": 1613,
   "metadata": {},
   "outputs": [
    {
     "name": "stdout",
     "output_type": "stream",
     "text": [
      "<class 'pandas.core.frame.DataFrame'>\n",
      "RangeIndex: 20000 entries, 0 to 19999\n",
      "Data columns (total 19 columns):\n",
      "Id                    20000 non-null object\n",
      "reassignment_count    20000 non-null int64\n",
      "reopen_count          20000 non-null int64\n",
      "update_count          20000 non-null int64\n",
      "made_sla              20000 non-null bool\n",
      "opened_by             19286 non-null object\n",
      "opened_at             20000 non-null object\n",
      "contact_type          20000 non-null object\n",
      "location              19948 non-null object\n",
      "category              19974 non-null object\n",
      "subcategory           19944 non-null object\n",
      "impact                20000 non-null object\n",
      "urgency               20000 non-null object\n",
      "priority              20000 non-null object\n",
      "assigned_to           14591 non-null object\n",
      "knowledge             20000 non-null bool\n",
      "notify                20000 non-null object\n",
      "vendor                6 non-null object\n",
      "target_days           20000 non-null int64\n",
      "dtypes: bool(2), int64(4), object(13)\n",
      "memory usage: 2.6+ MB\n"
     ]
    }
   ],
   "source": [
    "import numpy as np\n",
    "import pandas as pd\n",
    "import matplotlib.pyplot as plt\n",
    "import seaborn as sns\n",
    "from sklearn.preprocessing import MinMaxScaler\n",
    "from sklearn.preprocessing import StandardScaler\n",
    "from sklearn.linear_model import LinearRegression\n",
    "import datetime\n",
    "from sklearn import preprocessing\n",
    "sns.set()\n",
    "\n",
    "train = pd.read_csv('train.csv')\n",
    "test = pd.read_csv('test.csv')\n",
    "\n",
    "train.head()\n",
    "\n",
    "\n",
    "train.isnull().sum()\n",
    "\n",
    "train.info()"
   ]
  },
  {
   "cell_type": "code",
   "execution_count": 1614,
   "metadata": {},
   "outputs": [
    {
     "data": {
      "text/plain": [
       "Subcategory 174    5528\n",
       "Subcategory 223    2837\n",
       "Subcategory 175    1524\n",
       "Subcategory 164     962\n",
       "Subcategory 9       698\n",
       "                   ... \n",
       "Subcategory 10        1\n",
       "Subcategory 67        1\n",
       "Subcategory 298       1\n",
       "Subcategory 97        1\n",
       "Subcategory 140       1\n",
       "Name: subcategory, Length: 214, dtype: int64"
      ]
     },
     "execution_count": 1614,
     "metadata": {},
     "output_type": "execute_result"
    }
   ],
   "source": [
    "train['subcategory'].value_counts()"
   ]
  },
  {
   "cell_type": "code",
   "execution_count": 1615,
   "metadata": {},
   "outputs": [],
   "source": [
    "from datetime import datetime\n",
    "train['opened_at'] = pd.to_datetime(train.opened_at)\n",
    "# train['year'] = train['opened_at'].dt.year\n",
    "train['month'] = train['opened_at'].dt.month\n",
    "# train['day'] = train['opened_at'].dt.day\n",
    "# train['dayofyear'] = train['opened_at'].dt.dayofyear\n",
    "# train['weekofyear'] = train['opened_at'].dt.weekofyear\n",
    "train['dayofweek'] = train['opened_at'].dt.dayofweek\n",
    "# train['hour'] = train['opened_at'].dt.hour\n",
    "# train['minute'] = train['opened_at'].dt.minute\n",
    "# train.head()"
   ]
  },
  {
   "cell_type": "code",
   "execution_count": 1616,
   "metadata": {},
   "outputs": [],
   "source": [
    "for index,row in train.iterrows():\n",
    "    if(row['update_count']!=0):\n",
    "        train.drop(index,inplace=True)\n",
    "    if(row['vendor']=='Vendor 1' or row['vendor']=='code 8s'):\n",
    "        train.drop(index,inplace=True)\n",
    "#     if(row['knowledge']=='True'):\n",
    "#         train.drop(index,inplace=True)\n",
    "#     if(row['made_sla']=='False'):\n",
    "#         train.drop(index,inplace=True)\n",
    " "
   ]
  },
  {
   "cell_type": "code",
   "execution_count": 1617,
   "metadata": {},
   "outputs": [],
   "source": [
    "for index,row in train.iterrows(): \n",
    "    if(row['target_days']>10):\n",
    "        train.drop(index,inplace=True)\n",
    "for index,row in train.iterrows(): \n",
    "    if(row['target_days']<=4):\n",
    "        train.drop(index,inplace=True)"
   ]
  },
  {
   "cell_type": "code",
   "execution_count": 1618,
   "metadata": {},
   "outputs": [],
   "source": [
    "for index, row in train.iterrows():\n",
    "    if train.loc[index,'month']==3:\n",
    "        train.at[index,'month']=11\n",
    "    elif train.loc[index,'month']==4:\n",
    "        train.at[index,'month']=5\n",
    "    elif train.loc[index,'month']==5:\n",
    "        train.at[index,'month']=2\n",
    "    elif train.loc[index,'month']==2:\n",
    "        train.at[index,'month']=1\n",
    "    else:\n",
    "        train.at[index,'month']=0"
   ]
  },
  {
   "cell_type": "code",
   "execution_count": 1619,
   "metadata": {},
   "outputs": [
    {
     "data": {
      "text/html": [
       "<div>\n",
       "<style scoped>\n",
       "    .dataframe tbody tr th:only-of-type {\n",
       "        vertical-align: middle;\n",
       "    }\n",
       "\n",
       "    .dataframe tbody tr th {\n",
       "        vertical-align: top;\n",
       "    }\n",
       "\n",
       "    .dataframe thead th {\n",
       "        text-align: right;\n",
       "    }\n",
       "</style>\n",
       "<table border=\"1\" class=\"dataframe\">\n",
       "  <thead>\n",
       "    <tr style=\"text-align: right;\">\n",
       "      <th></th>\n",
       "      <th>opened_by</th>\n",
       "      <th>location</th>\n",
       "      <th>category</th>\n",
       "      <th>subcategory</th>\n",
       "      <th>priority</th>\n",
       "      <th>assigned_to</th>\n",
       "      <th>target_days</th>\n",
       "      <th>month</th>\n",
       "      <th>dayofweek</th>\n",
       "    </tr>\n",
       "  </thead>\n",
       "  <tbody>\n",
       "    <tr>\n",
       "      <td>0</td>\n",
       "      <td>Opened by  8</td>\n",
       "      <td>Location 143</td>\n",
       "      <td>Category 55</td>\n",
       "      <td>Subcategory 170</td>\n",
       "      <td>3 - Moderate</td>\n",
       "      <td>NaN</td>\n",
       "      <td>5</td>\n",
       "      <td>1</td>\n",
       "      <td>0</td>\n",
       "    </tr>\n",
       "    <tr>\n",
       "      <td>1</td>\n",
       "      <td>Opened by  397</td>\n",
       "      <td>Location 165</td>\n",
       "      <td>Category 40</td>\n",
       "      <td>Subcategory 215</td>\n",
       "      <td>3 - Moderate</td>\n",
       "      <td>Resolver 89</td>\n",
       "      <td>6</td>\n",
       "      <td>1</td>\n",
       "      <td>0</td>\n",
       "    </tr>\n",
       "    <tr>\n",
       "      <td>2</td>\n",
       "      <td>Opened by  8</td>\n",
       "      <td>Location 204</td>\n",
       "      <td>Category 20</td>\n",
       "      <td>Subcategory 125</td>\n",
       "      <td>3 - Moderate</td>\n",
       "      <td>NaN</td>\n",
       "      <td>5</td>\n",
       "      <td>1</td>\n",
       "      <td>0</td>\n",
       "    </tr>\n",
       "    <tr>\n",
       "      <td>3</td>\n",
       "      <td>Opened by  180</td>\n",
       "      <td>Location 204</td>\n",
       "      <td>Category 9</td>\n",
       "      <td>Subcategory 97</td>\n",
       "      <td>3 - Moderate</td>\n",
       "      <td>Resolver 125</td>\n",
       "      <td>7</td>\n",
       "      <td>1</td>\n",
       "      <td>0</td>\n",
       "    </tr>\n",
       "    <tr>\n",
       "      <td>4</td>\n",
       "      <td>Opened by  180</td>\n",
       "      <td>Location 93</td>\n",
       "      <td>Category 53</td>\n",
       "      <td>Subcategory 168</td>\n",
       "      <td>3 - Moderate</td>\n",
       "      <td>NaN</td>\n",
       "      <td>5</td>\n",
       "      <td>1</td>\n",
       "      <td>0</td>\n",
       "    </tr>\n",
       "  </tbody>\n",
       "</table>\n",
       "</div>"
      ],
      "text/plain": [
       "        opened_by      location     category      subcategory      priority  \\\n",
       "0    Opened by  8  Location 143  Category 55  Subcategory 170  3 - Moderate   \n",
       "1  Opened by  397  Location 165  Category 40  Subcategory 215  3 - Moderate   \n",
       "2    Opened by  8  Location 204  Category 20  Subcategory 125  3 - Moderate   \n",
       "3  Opened by  180  Location 204   Category 9   Subcategory 97  3 - Moderate   \n",
       "4  Opened by  180   Location 93  Category 53  Subcategory 168  3 - Moderate   \n",
       "\n",
       "    assigned_to  target_days  month  dayofweek  \n",
       "0           NaN            5      1          0  \n",
       "1   Resolver 89            6      1          0  \n",
       "2           NaN            5      1          0  \n",
       "3  Resolver 125            7      1          0  \n",
       "4           NaN            5      1          0  "
      ]
     },
     "execution_count": 1619,
     "metadata": {},
     "output_type": "execute_result"
    }
   ],
   "source": [
    "train.drop(['vendor'], axis=1, inplace=True)\n",
    "train.drop(['reassignment_count'], axis=1, inplace=True)\n",
    "train.drop(['reopen_count'], axis=1, inplace=True)\n",
    "train.drop(['update_count'], axis=1, inplace=True)\n",
    "# train.drop(['assigned_to'], axis=1, inplace=True)\n",
    "train.drop(['opened_at'], axis=1, inplace=True)\n",
    "train.drop(['Id'], axis=1, inplace=True)\n",
    "train.drop(['made_sla'], axis=1, inplace=True)\n",
    "train.drop(['notify'], axis=1, inplace=True)\n",
    "# train.drop(['year'], axis=1, inplace=True)\n",
    "train.drop(['contact_type'], axis=1, inplace=True)\n",
    "# train.drop(['dayofweek'], axis=1, inplace=True)\n",
    "train.drop(['impact'], axis=1, inplace=True)\n",
    "train.drop(['urgency'], axis=1, inplace=True)\n",
    "# train.drop(['priority'], axis=1, inplace=True)\n",
    "# train.drop(['location'], axis=1, inplace=True)\n",
    "train.drop(['knowledge'], axis=1, inplace=True)\n",
    "\n",
    "train.head()"
   ]
  },
  {
   "cell_type": "code",
   "execution_count": 1620,
   "metadata": {},
   "outputs": [],
   "source": [
    "train[['OpBy','opby','opened_by1']] = train.opened_by.str.split(expand=True) \n",
    "train[['loc','location1']] = train.location.str.split(expand=True) \n",
    "train[['cat','category1']] = train.category.str.split(expand=True) \n",
    "train[['scat','subcategory1']] = train.subcategory.str.split(expand=True) \n",
    "train[['assg','assigned_to1']] = train.assigned_to.str.split(expand=True) "
   ]
  },
  {
   "cell_type": "code",
   "execution_count": 1621,
   "metadata": {
    "scrolled": false
   },
   "outputs": [],
   "source": [
    "# train.info()"
   ]
  },
  {
   "cell_type": "code",
   "execution_count": 1622,
   "metadata": {},
   "outputs": [
    {
     "name": "stdout",
     "output_type": "stream",
     "text": [
      "<class 'pandas.core.frame.DataFrame'>\n",
      "Int64Index: 13122 entries, 0 to 19999\n",
      "Data columns (total 9 columns):\n",
      "priority        13122 non-null object\n",
      "target_days     13122 non-null int64\n",
      "month           13122 non-null int64\n",
      "dayofweek       13122 non-null int64\n",
      "opened_by1      12736 non-null float64\n",
      "location1       13110 non-null float64\n",
      "category1       13111 non-null float64\n",
      "subcategory1    13109 non-null float64\n",
      "assigned_to1    9570 non-null float64\n",
      "dtypes: float64(5), int64(3), object(1)\n",
      "memory usage: 1.6+ MB\n"
     ]
    }
   ],
   "source": [
    "train.drop(['OpBy'], axis=1, inplace=True)\n",
    "train.drop(['opby'], axis=1, inplace=True)\n",
    "train.drop(['opened_by'], axis=1, inplace=True)\n",
    "train['opened_by1'] = train['opened_by1'].astype(float)\n",
    "\n",
    "train.drop(['loc'], axis=1, inplace=True)\n",
    "train.drop(['location'], axis=1, inplace=True)\n",
    "train['location1'] = train['location1'].astype(float)\n",
    "\n",
    "train.drop(['cat'], axis=1, inplace=True)\n",
    "train.drop(['category'], axis=1, inplace=True)\n",
    "train['category1'] = train['category1'].astype(float)\n",
    "\n",
    "train.drop(['scat'], axis=1, inplace=True)\n",
    "train.drop(['subcategory'], axis=1, inplace=True)\n",
    "train['subcategory1'] = train['subcategory1'].astype(float)\n",
    "\n",
    "train.drop(['assg'], axis=1, inplace=True)\n",
    "train.drop(['assigned_to'], axis=1, inplace=True)\n",
    "train['assigned_to1'] = train['assigned_to1'].astype(float)\n",
    "train.info()\n"
   ]
  },
  {
   "cell_type": "code",
   "execution_count": 1623,
   "metadata": {},
   "outputs": [],
   "source": [
    "# train[['impact1','imp']] = train['impact'].str.split('-',expand=True)\n",
    "# train.drop(['imp'], axis=1, inplace=True)\n",
    "# train.drop(['impact'], axis=1, inplace=True)\n",
    "# train['impact1'] = train['impact1'].astype(float)\n",
    "\n",
    "# train[['urgency1','urg']] = train['urgency'].str.split('-',expand=True)\n",
    "# train.drop(['urg'], axis=1, inplace=True)\n",
    "# train.drop(['urgency'], axis=1, inplace=True)\n",
    "# train['urgency1'] = train['urgency1'].astype(float)\n",
    "\n",
    "train[['priority1','pri']] = train['priority'].str.split('-',expand=True)\n",
    "train.drop(['pri'], axis=1, inplace=True)\n",
    "train.drop(['priority'], axis=1, inplace=True)\n",
    "train['priority1'] = train['priority1'].astype(float)"
   ]
  },
  {
   "cell_type": "code",
   "execution_count": 1624,
   "metadata": {},
   "outputs": [],
   "source": [
    "# targetday = train.target_days[train.assigned_to== NULL]\n",
    "# assign = train.assigned_to1[train.target_days==targetday]\n",
    "# mapping = {i:j for i,j in zip(targetday,assign)}\n",
    "# for x in mapping:\n",
    "#     train.loc[train.target_days == x,'assigned_to1'] = mapping[x]"
   ]
  },
  {
   "cell_type": "code",
   "execution_count": 1625,
   "metadata": {},
   "outputs": [
    {
     "data": {
      "text/html": [
       "<div>\n",
       "<style scoped>\n",
       "    .dataframe tbody tr th:only-of-type {\n",
       "        vertical-align: middle;\n",
       "    }\n",
       "\n",
       "    .dataframe tbody tr th {\n",
       "        vertical-align: top;\n",
       "    }\n",
       "\n",
       "    .dataframe thead th {\n",
       "        text-align: right;\n",
       "    }\n",
       "</style>\n",
       "<table border=\"1\" class=\"dataframe\">\n",
       "  <thead>\n",
       "    <tr style=\"text-align: right;\">\n",
       "      <th></th>\n",
       "      <th>target_days</th>\n",
       "      <th>month</th>\n",
       "      <th>dayofweek</th>\n",
       "      <th>opened_by1</th>\n",
       "      <th>location1</th>\n",
       "      <th>category1</th>\n",
       "      <th>subcategory1</th>\n",
       "      <th>assigned_to1</th>\n",
       "      <th>priority1</th>\n",
       "    </tr>\n",
       "  </thead>\n",
       "  <tbody>\n",
       "    <tr>\n",
       "      <td>0</td>\n",
       "      <td>False</td>\n",
       "      <td>False</td>\n",
       "      <td>False</td>\n",
       "      <td>False</td>\n",
       "      <td>False</td>\n",
       "      <td>False</td>\n",
       "      <td>False</td>\n",
       "      <td>True</td>\n",
       "      <td>False</td>\n",
       "    </tr>\n",
       "    <tr>\n",
       "      <td>1</td>\n",
       "      <td>False</td>\n",
       "      <td>False</td>\n",
       "      <td>False</td>\n",
       "      <td>False</td>\n",
       "      <td>False</td>\n",
       "      <td>False</td>\n",
       "      <td>False</td>\n",
       "      <td>False</td>\n",
       "      <td>False</td>\n",
       "    </tr>\n",
       "    <tr>\n",
       "      <td>2</td>\n",
       "      <td>False</td>\n",
       "      <td>False</td>\n",
       "      <td>False</td>\n",
       "      <td>False</td>\n",
       "      <td>False</td>\n",
       "      <td>False</td>\n",
       "      <td>False</td>\n",
       "      <td>True</td>\n",
       "      <td>False</td>\n",
       "    </tr>\n",
       "    <tr>\n",
       "      <td>3</td>\n",
       "      <td>False</td>\n",
       "      <td>False</td>\n",
       "      <td>False</td>\n",
       "      <td>False</td>\n",
       "      <td>False</td>\n",
       "      <td>False</td>\n",
       "      <td>False</td>\n",
       "      <td>False</td>\n",
       "      <td>False</td>\n",
       "    </tr>\n",
       "    <tr>\n",
       "      <td>4</td>\n",
       "      <td>False</td>\n",
       "      <td>False</td>\n",
       "      <td>False</td>\n",
       "      <td>False</td>\n",
       "      <td>False</td>\n",
       "      <td>False</td>\n",
       "      <td>False</td>\n",
       "      <td>True</td>\n",
       "      <td>False</td>\n",
       "    </tr>\n",
       "    <tr>\n",
       "      <td>...</td>\n",
       "      <td>...</td>\n",
       "      <td>...</td>\n",
       "      <td>...</td>\n",
       "      <td>...</td>\n",
       "      <td>...</td>\n",
       "      <td>...</td>\n",
       "      <td>...</td>\n",
       "      <td>...</td>\n",
       "      <td>...</td>\n",
       "    </tr>\n",
       "    <tr>\n",
       "      <td>19994</td>\n",
       "      <td>False</td>\n",
       "      <td>False</td>\n",
       "      <td>False</td>\n",
       "      <td>False</td>\n",
       "      <td>False</td>\n",
       "      <td>False</td>\n",
       "      <td>False</td>\n",
       "      <td>False</td>\n",
       "      <td>False</td>\n",
       "    </tr>\n",
       "    <tr>\n",
       "      <td>19995</td>\n",
       "      <td>False</td>\n",
       "      <td>False</td>\n",
       "      <td>False</td>\n",
       "      <td>False</td>\n",
       "      <td>False</td>\n",
       "      <td>False</td>\n",
       "      <td>False</td>\n",
       "      <td>False</td>\n",
       "      <td>False</td>\n",
       "    </tr>\n",
       "    <tr>\n",
       "      <td>19996</td>\n",
       "      <td>False</td>\n",
       "      <td>False</td>\n",
       "      <td>False</td>\n",
       "      <td>False</td>\n",
       "      <td>False</td>\n",
       "      <td>False</td>\n",
       "      <td>False</td>\n",
       "      <td>False</td>\n",
       "      <td>False</td>\n",
       "    </tr>\n",
       "    <tr>\n",
       "      <td>19997</td>\n",
       "      <td>False</td>\n",
       "      <td>False</td>\n",
       "      <td>False</td>\n",
       "      <td>False</td>\n",
       "      <td>False</td>\n",
       "      <td>False</td>\n",
       "      <td>False</td>\n",
       "      <td>False</td>\n",
       "      <td>False</td>\n",
       "    </tr>\n",
       "    <tr>\n",
       "      <td>19999</td>\n",
       "      <td>False</td>\n",
       "      <td>False</td>\n",
       "      <td>False</td>\n",
       "      <td>False</td>\n",
       "      <td>False</td>\n",
       "      <td>False</td>\n",
       "      <td>False</td>\n",
       "      <td>True</td>\n",
       "      <td>False</td>\n",
       "    </tr>\n",
       "  </tbody>\n",
       "</table>\n",
       "<p>13122 rows × 9 columns</p>\n",
       "</div>"
      ],
      "text/plain": [
       "       target_days  month  dayofweek  opened_by1  location1  category1  \\\n",
       "0            False  False      False       False      False      False   \n",
       "1            False  False      False       False      False      False   \n",
       "2            False  False      False       False      False      False   \n",
       "3            False  False      False       False      False      False   \n",
       "4            False  False      False       False      False      False   \n",
       "...            ...    ...        ...         ...        ...        ...   \n",
       "19994        False  False      False       False      False      False   \n",
       "19995        False  False      False       False      False      False   \n",
       "19996        False  False      False       False      False      False   \n",
       "19997        False  False      False       False      False      False   \n",
       "19999        False  False      False       False      False      False   \n",
       "\n",
       "       subcategory1  assigned_to1  priority1  \n",
       "0             False          True      False  \n",
       "1             False         False      False  \n",
       "2             False          True      False  \n",
       "3             False         False      False  \n",
       "4             False          True      False  \n",
       "...             ...           ...        ...  \n",
       "19994         False         False      False  \n",
       "19995         False         False      False  \n",
       "19996         False         False      False  \n",
       "19997         False         False      False  \n",
       "19999         False          True      False  \n",
       "\n",
       "[13122 rows x 9 columns]"
      ]
     },
     "execution_count": 1625,
     "metadata": {},
     "output_type": "execute_result"
    }
   ],
   "source": [
    "train.isnull()"
   ]
  },
  {
   "cell_type": "code",
   "execution_count": 1626,
   "metadata": {},
   "outputs": [],
   "source": [
    "train['category1'].fillna(train.groupby('target_days')['category1'].transform('value_counts'), inplace=True)\n",
    "train['assigned_to1'].fillna(train.groupby('target_days')['assigned_to1'].transform('value_counts'), inplace=True)\n",
    "train['subcategory1'].fillna(train.groupby('target_days')['subcategory1'].transform('value_counts'), inplace=True)\n",
    "train['location1'].fillna(train.groupby('target_days')['location1'].transform('value_counts'), inplace=True)\n",
    "train['opened_by1'].fillna(train.groupby('target_days')['opened_by1'].transform('value_counts'), inplace=True)\n",
    "\n"
   ]
  },
  {
   "cell_type": "code",
   "execution_count": 1627,
   "metadata": {},
   "outputs": [
    {
     "data": {
      "text/plain": [
       "<bound method DataFrame.info of        target_days  month  dayofweek  opened_by1  location1  category1  \\\n",
       "0                5      1          0         8.0      143.0       55.0   \n",
       "1                6      1          0       397.0      165.0       40.0   \n",
       "2                5      1          0         8.0      204.0       20.0   \n",
       "3                7      1          0       180.0      204.0        9.0   \n",
       "4                5      1          0       180.0       93.0       53.0   \n",
       "...            ...    ...        ...         ...        ...        ...   \n",
       "19994            6      2          2        24.0      108.0       20.0   \n",
       "19995            5      2          2        17.0      204.0       42.0   \n",
       "19996            5      2          2        17.0       93.0       37.0   \n",
       "19997            5      2          2        24.0       97.0       42.0   \n",
       "19999            5      2          2        55.0      204.0       26.0   \n",
       "\n",
       "       subcategory1  assigned_to1  priority1  \n",
       "0             170.0         878.0        3.0  \n",
       "1             215.0          89.0        3.0  \n",
       "2             125.0         878.0        3.0  \n",
       "3              97.0         125.0        3.0  \n",
       "4             168.0         878.0        3.0  \n",
       "...             ...           ...        ...  \n",
       "19994         174.0          93.0        3.0  \n",
       "19995         223.0          13.0        3.0  \n",
       "19996         174.0          83.0        3.0  \n",
       "19997         223.0          17.0        3.0  \n",
       "19999         275.0         878.0        3.0  \n",
       "\n",
       "[13122 rows x 9 columns]>"
      ]
     },
     "execution_count": 1627,
     "metadata": {},
     "output_type": "execute_result"
    }
   ],
   "source": [
    "# train['category1']=train['category1'].fillna(46)\n",
    "# train['subcategory1']=train['subcategory1'].fillna(174)\n",
    "train.info"
   ]
  },
  {
   "cell_type": "code",
   "execution_count": 1628,
   "metadata": {},
   "outputs": [],
   "source": [
    "# # for index, row in train.iterrows():\n",
    "# #     if(row['opened_by1']==NaN or row['location1']==NaN or row['category1']==NaN or row['subcategory1']==NaN):\n",
    "# #         train.drop(index,inplace=True)\n",
    "# train['assigned_to1']=train['assigned_to1'].fillna(125)\n",
    "# train['opened_by1']=train['opened_by1'].fillna(180)\n",
    "# train['location1']=train['location1'].fillna(93)\n",
    "\n",
    "#rain['category1'].fillna((train['category1'].value_counts().idxmax()), inplace=True)\n",
    "#train['subcategory1'].fillna((train['subcategory1'].value_counts().idxmax()), inplace=True)\n",
    "# train['opened_by1'].fillna((train['opened_by1'].value_counts().idxmax()), inplace=True)\n",
    "# train['location1'].fillna((train['location1'].value_counts().idxmax()), inplace=True)\n",
    "# train['assigned_to1'] = train['assigned_to1'].convert_objects(convert_numeric=True).fillna(125)\n",
    "#train['assigned_to1'] = train['assigned_to1'].convert_objects(convert_numeric=True).fillna(125)\n",
    "# train['category1'].interpolate(method ='linear', limit_direction ='forward') \n",
    "# train['subcategory1'].interpolate(method ='linear', limit_direction ='forward') \n",
    "# train['opened_by1'].interpolate(method ='linear', limit_direction ='forward') \n",
    "# train['location1'].interpolate(method ='linear', limit_direction ='forward') \n",
    "# train['assigned_to1'].interpolate(method ='linear', limit_direction ='forward') \n",
    "# train.interpolate(method ='index', limit_direction ='forward') \n",
    "# train.interpolate(method ='index', limit_direction ='backward') \n",
    "\n",
    "train = train.dropna(axis = 0, how ='any')"
   ]
  },
  {
   "cell_type": "code",
   "execution_count": 1629,
   "metadata": {},
   "outputs": [],
   "source": [
    "# train['RAC'] = train['opened_by1'].map(str)+\"\"+train['location1'].map(str)+\"\"+train['category1'].map(str)+\"\"+train['subcategory1'].map(str)+\"\"+train['priority1'].map(str)\n",
    "# train['ROC'] = train['location1'].map(str)+\"\"+train['category1'].map(str)+\"\"+train['subcategory1'].map(str)+\"\"+train['priority1'].map(str)+\"\"+train['assigned_to1'].map(str)\n",
    "# train['UC'] = train['opened_by1'].map(str)+\"\"+train['location1'].map(str)+\"\"+train['category1'].map(str)+\"\"+train['subcategory1'].map(str)+\"\"+train['assigned_to1'].map(str)"
   ]
  },
  {
   "cell_type": "code",
   "execution_count": 1630,
   "metadata": {},
   "outputs": [],
   "source": [
    "# z = train['RAC'].value_counts() \n",
    "# z1 = z.to_dict() #converts to dictionary\n",
    "\n",
    "# train['reassignment_count'] = train['RAC'].map(z1) \n",
    "\n",
    "# x = train['ROC'].value_counts() \n",
    "# x1 = x.to_dict() #converts to dictionary\n",
    "\n",
    "# train['reopen_count'] = train['ROC'].map(x1) \n",
    "\n",
    "# y = train['UC'].value_counts() \n",
    "# y1 = y.to_dict() #converts to dictionary\n",
    "\n",
    "# train['update_count'] = train['UC'].map(y1) \n",
    "\n",
    "# train.drop(['RAC'], axis=1, inplace=True)\n",
    "# train.drop(['ROC'], axis=1, inplace=True)\n",
    "# train.drop(['UC'], axis=1, inplace=True)"
   ]
  },
  {
   "cell_type": "code",
   "execution_count": 1631,
   "metadata": {},
   "outputs": [],
   "source": [
    "# train['reassignment_count'].value_counts()"
   ]
  },
  {
   "cell_type": "code",
   "execution_count": 1632,
   "metadata": {},
   "outputs": [],
   "source": [
    "from sklearn.preprocessing import LabelEncoder,MinMaxScaler,OneHotEncoder\n",
    "labelencoder = LabelEncoder()\n",
    "\n",
    "#train['made_sla'] = labelencoder.fit_transform(train['made_sla'])\n",
    "# train['assigned_to'] = labelencoder.fit_transform(train['assigned_to'])\n",
    "# train['vendor'] = labelencoder.fit_transform(train['vendor'])\n",
    "# train['contact_type'] = labelencoder.fit_transform(train['contact_type'])\n",
    "#train['knowledge'] = labelencoder.fit_transform(train['knowledge'])\n",
    "# train['notify'] = labelencoder.fit_transform(train['notify'])\n",
    "\n",
    "# onehot_encoder = OneHotEncoder(sparse=False)\n",
    "# train = onehot_encoder.fit_transform(train)\n",
    "\n",
    "# train = pd.get_dummies(train,prefix_sep = '_',drop_first = True)\n",
    "\n",
    "# train.head()"
   ]
  },
  {
   "cell_type": "code",
   "execution_count": null,
   "metadata": {},
   "outputs": [],
   "source": []
  },
  {
   "cell_type": "code",
   "execution_count": 1633,
   "metadata": {},
   "outputs": [],
   "source": [
    "train.to_csv(\"prepros.csv\")"
   ]
  },
  {
   "cell_type": "code",
   "execution_count": 1634,
   "metadata": {},
   "outputs": [],
   "source": [
    "# train.corr()"
   ]
  },
  {
   "cell_type": "code",
   "execution_count": 1635,
   "metadata": {},
   "outputs": [],
   "source": [
    "\n",
    "y = train[\"target_days\"]\n",
    "\n",
    "X = train.drop([\"target_days\"],axis=1)\n"
   ]
  },
  {
   "cell_type": "code",
   "execution_count": 1636,
   "metadata": {},
   "outputs": [],
   "source": [
    "from sklearn.model_selection import train_test_split \n",
    "\n",
    "x_train , x_test, y_train, y_test = train_test_split(X,y,test_size=0.00005,random_state=42)"
   ]
  },
  {
   "cell_type": "code",
   "execution_count": 1637,
   "metadata": {},
   "outputs": [],
   "source": [
    "# scaler=StandardScaler()\n",
    "# X_train = scaler.fit_transform(x_train)\n",
    "# X_test = scaler.transform(x_test)\n",
    "X_train = x_train\n",
    "X_test = x_test"
   ]
  },
  {
   "cell_type": "code",
   "execution_count": 1638,
   "metadata": {},
   "outputs": [],
   "source": [
    "# from sklearn.model_selection import RandomizedSearchCV# Number of trees in random forest\n",
    "# n_estimators = [int(x) for x in np.linspace(start = 100, stop = 2000, num = 10)]\n",
    "# # Number of features to consider at every split\n",
    "# max_features = ['auto', 'sqrt']\n",
    "# # Maximum number of levels in tree\n",
    "# max_depth = [int(x) for x in np.linspace(10, 110, num = 11)]\n",
    "# max_depth.append(None)\n",
    "# # Minimum number of samples required to split a node\n",
    "# min_samples_split = [2, 5, 10]\n",
    "# # Minimum number of samples required at each leaf node\n",
    "# min_samples_leaf = [1, 2, 4]\n",
    "# # Method of selecting samples for training each tree\n",
    "# bootstrap = [True, False]# Create the random grid\n",
    "# random_grid = {'n_estimators': n_estimators,\n",
    "#                'max_features': max_features,\n",
    "#                'max_depth': max_depth,\n",
    "#                'min_samples_split': min_samples_split,\n",
    "#                'min_samples_leaf': min_samples_leaf,\n",
    "#                'bootstrap': bootstrap}\n",
    "# print(random_grid)"
   ]
  },
  {
   "cell_type": "code",
   "execution_count": 1639,
   "metadata": {},
   "outputs": [],
   "source": [
    "# # Use the random grid to search for best hyperparameters\n",
    "# # First create the base model to tune\n",
    "# rf = RandomForestRegressor()\n",
    "# # Random search of parameters, using 3 fold cross validation, \n",
    "# # search across 100 different combinations, and use all available cores\n",
    "# rf_random = RandomizedSearchCV(estimator = rf, param_distributions = random_grid, n_iter = 100, cv = 3, verbose=2, random_state=42, n_jobs = -1)# Fit the random search model\n",
    "# rf_random.fit(X_train, y_train)"
   ]
  },
  {
   "cell_type": "code",
   "execution_count": 1640,
   "metadata": {},
   "outputs": [],
   "source": [
    "# rf_random.best_params_"
   ]
  },
  {
   "cell_type": "code",
   "execution_count": 1641,
   "metadata": {},
   "outputs": [
    {
     "data": {
      "text/plain": [
       "RandomForestRegressor(bootstrap=True, criterion='mse', max_depth=100,\n",
       "                      max_features='auto', max_leaf_nodes=None,\n",
       "                      min_impurity_decrease=0.0, min_impurity_split=None,\n",
       "                      min_samples_leaf=4, min_samples_split=5,\n",
       "                      min_weight_fraction_leaf=0.0, n_estimators=944,\n",
       "                      n_jobs=None, oob_score=False, random_state=None,\n",
       "                      verbose=0, warm_start=False)"
      ]
     },
     "execution_count": 1641,
     "metadata": {},
     "output_type": "execute_result"
    }
   ],
   "source": [
    "from sklearn.ensemble import RandomForestRegressor\n",
    "# from sklearn.svm import SVC\n",
    "# lr = SVC(kernel = 'linear',C=1000)\n",
    "lr = RandomForestRegressor(bootstrap=True,n_estimators=944,max_features='auto',min_samples_leaf=4,min_samples_split=5,max_depth=100)\n",
    "\n",
    "lr.fit(X_train,y_train)"
   ]
  },
  {
   "cell_type": "code",
   "execution_count": 1642,
   "metadata": {
    "scrolled": true
   },
   "outputs": [
    {
     "name": "stdout",
     "output_type": "stream",
     "text": [
      "R2 score: nan\n",
      "MAE: 0.0011316411342914279\n",
      "MSE: 1.2806116568203895e-06\n",
      "LMSE: 2.0006727050134958e-08\n",
      "RMSE: 0.0011316411342914279\n",
      "LRMSE: 0.0001414451379515569\n"
     ]
    },
    {
     "name": "stderr",
     "output_type": "stream",
     "text": [
      "/home/freakcap/anaconda3/envs/ml/lib/python3.7/site-packages/sklearn/metrics/regression.py:543: UndefinedMetricWarning: R^2 score is not well-defined with less than two samples.\n",
      "  warnings.warn(msg, UndefinedMetricWarning)\n"
     ]
    }
   ],
   "source": [
    "from sklearn.metrics import mean_squared_error\n",
    "from sklearn.metrics import mean_absolute_error\n",
    "from sklearn.metrics import mean_squared_log_error,r2_score\n",
    "y_pred= lr.predict(X_test)\n",
    "r2 = r2_score(y_test, y_pred)\n",
    "mae = mean_absolute_error(y_test, y_pred)\n",
    "mse = mean_squared_error(y_test, y_pred)\n",
    "lmse = mean_squared_log_error(y_test, y_pred)\n",
    "rmse = np.sqrt(mse)\n",
    "lrmse = np.sqrt(lmse)\n",
    "print(\"R2 score:\", r2)\n",
    "print(\"MAE:\", mae)\n",
    "print(\"MSE:\", mse)\n",
    "print(\"LMSE:\", lmse)\n",
    "print(\"RMSE:\", rmse)\n",
    "print(\"LRMSE:\", lrmse)"
   ]
  },
  {
   "cell_type": "code",
   "execution_count": 1643,
   "metadata": {},
   "outputs": [],
   "source": [
    "# test.isnull().sum()"
   ]
  },
  {
   "cell_type": "code",
   "execution_count": 1644,
   "metadata": {},
   "outputs": [],
   "source": [
    "from datetime import datetime\n",
    "test['opened_at'] = pd.to_datetime(test.opened_at)\n",
    "# test['year'] = test['opened_at'].dt.year\n",
    "test['month'] = test['opened_at'].dt.month\n",
    "# test['day'] = test['opened_at'].dt.day\n",
    "# test['dayofyear'] = test['opened_at'].dt.dayofyear\n",
    "# test['weekofyear'] = test['opened_at'].dt.weekofyear\n",
    "test['dayofweek'] = test['opened_at'].dt.dayofweek\n",
    "# test['hour'] = test['opened_at'].dt.hour\n",
    "# test['minute'] = test['opened_at'].dt.minute\n",
    "# test.head()"
   ]
  },
  {
   "cell_type": "code",
   "execution_count": 1645,
   "metadata": {},
   "outputs": [],
   "source": [
    "for index, row in test.iterrows():\n",
    "    if test.loc[index,'month']==3:\n",
    "        test.at[index,'month']=11\n",
    "    elif test.loc[index,'month']==4:\n",
    "        test.at[index,'month']=5\n",
    "    elif test.loc[index,'month']==5:\n",
    "        test.at[index,'month']=2\n",
    "    elif test.loc[index,'month']==2:\n",
    "        test.at[index,'month']=1\n",
    "    else:\n",
    "        test.at[index,'month']=0"
   ]
  },
  {
   "cell_type": "code",
   "execution_count": 1646,
   "metadata": {},
   "outputs": [
    {
     "data": {
      "text/html": [
       "<div>\n",
       "<style scoped>\n",
       "    .dataframe tbody tr th:only-of-type {\n",
       "        vertical-align: middle;\n",
       "    }\n",
       "\n",
       "    .dataframe tbody tr th {\n",
       "        vertical-align: top;\n",
       "    }\n",
       "\n",
       "    .dataframe thead th {\n",
       "        text-align: right;\n",
       "    }\n",
       "</style>\n",
       "<table border=\"1\" class=\"dataframe\">\n",
       "  <thead>\n",
       "    <tr style=\"text-align: right;\">\n",
       "      <th></th>\n",
       "      <th>opened_by</th>\n",
       "      <th>location</th>\n",
       "      <th>category</th>\n",
       "      <th>subcategory</th>\n",
       "      <th>priority</th>\n",
       "      <th>assigned_to</th>\n",
       "      <th>month</th>\n",
       "      <th>dayofweek</th>\n",
       "    </tr>\n",
       "  </thead>\n",
       "  <tbody>\n",
       "    <tr>\n",
       "      <td>0</td>\n",
       "      <td>Opened by  301</td>\n",
       "      <td>Location 161</td>\n",
       "      <td>Category 9</td>\n",
       "      <td>Subcategory 164</td>\n",
       "      <td>3 - Moderate</td>\n",
       "      <td>Resolver 249</td>\n",
       "      <td>2</td>\n",
       "      <td>2</td>\n",
       "    </tr>\n",
       "    <tr>\n",
       "      <td>1</td>\n",
       "      <td>Opened by  501</td>\n",
       "      <td>Location 93</td>\n",
       "      <td>Category 23</td>\n",
       "      <td>Subcategory 174</td>\n",
       "      <td>3 - Moderate</td>\n",
       "      <td>Resolver 233</td>\n",
       "      <td>2</td>\n",
       "      <td>2</td>\n",
       "    </tr>\n",
       "    <tr>\n",
       "      <td>2</td>\n",
       "      <td>Opened by  24</td>\n",
       "      <td>Location 161</td>\n",
       "      <td>Category 32</td>\n",
       "      <td>Subcategory 9</td>\n",
       "      <td>3 - Moderate</td>\n",
       "      <td>Resolver 219</td>\n",
       "      <td>2</td>\n",
       "      <td>2</td>\n",
       "    </tr>\n",
       "    <tr>\n",
       "      <td>3</td>\n",
       "      <td>Opened by  24</td>\n",
       "      <td>Location 143</td>\n",
       "      <td>Category 57</td>\n",
       "      <td>Subcategory 170</td>\n",
       "      <td>3 - Moderate</td>\n",
       "      <td>Resolver 7</td>\n",
       "      <td>2</td>\n",
       "      <td>2</td>\n",
       "    </tr>\n",
       "    <tr>\n",
       "      <td>4</td>\n",
       "      <td>Opened by  17</td>\n",
       "      <td>Location 204</td>\n",
       "      <td>Category 57</td>\n",
       "      <td>Subcategory 146</td>\n",
       "      <td>3 - Moderate</td>\n",
       "      <td>Resolver 76</td>\n",
       "      <td>2</td>\n",
       "      <td>2</td>\n",
       "    </tr>\n",
       "  </tbody>\n",
       "</table>\n",
       "</div>"
      ],
      "text/plain": [
       "        opened_by      location     category      subcategory      priority  \\\n",
       "0  Opened by  301  Location 161   Category 9  Subcategory 164  3 - Moderate   \n",
       "1  Opened by  501   Location 93  Category 23  Subcategory 174  3 - Moderate   \n",
       "2   Opened by  24  Location 161  Category 32    Subcategory 9  3 - Moderate   \n",
       "3   Opened by  24  Location 143  Category 57  Subcategory 170  3 - Moderate   \n",
       "4   Opened by  17  Location 204  Category 57  Subcategory 146  3 - Moderate   \n",
       "\n",
       "    assigned_to  month  dayofweek  \n",
       "0  Resolver 249      2          2  \n",
       "1  Resolver 233      2          2  \n",
       "2  Resolver 219      2          2  \n",
       "3    Resolver 7      2          2  \n",
       "4   Resolver 76      2          2  "
      ]
     },
     "execution_count": 1646,
     "metadata": {},
     "output_type": "execute_result"
    }
   ],
   "source": [
    "Id = test['Id']\n",
    "\n",
    "test.drop(['vendor'], axis=1, inplace=True)\n",
    "test.drop(['reassignment_count'], axis=1, inplace=True)\n",
    "test.drop(['reopen_count'], axis=1, inplace=True)\n",
    "test.drop(['update_count'], axis=1, inplace=True)\n",
    "# test.drop(['assigned_to'], axis=1, inplace=True)\n",
    "test.drop(['opened_at'], axis=1, inplace=True)\n",
    "test.drop(['Id'], axis=1, inplace=True)\n",
    "test.drop(['made_sla'], axis=1, inplace=True)\n",
    "test.drop(['notify'], axis=1, inplace=True)\n",
    "# test.drop(['year'], axis=1, inplace=True)\n",
    "test.drop(['contact_type'], axis=1, inplace=True)\n",
    "# test.drop(['dayofweek'], axis=1, inplace=True)\n",
    "test.drop(['knowledge'], axis=1, inplace=True)\n",
    "# test.drop(['location'], axis=1, inplace=True)\n",
    "test.drop(['impact'], axis=1, inplace=True)\n",
    "test.drop(['urgency'], axis=1, inplace=True)\n",
    "\n",
    "test.head()"
   ]
  },
  {
   "cell_type": "code",
   "execution_count": null,
   "metadata": {},
   "outputs": [],
   "source": []
  },
  {
   "cell_type": "code",
   "execution_count": 1647,
   "metadata": {},
   "outputs": [],
   "source": [
    "test[['OpBy','opby','opened_by1']] = test.opened_by.str.split(expand=True) \n",
    "test[['loc','location1']] = test.location.str.split(expand=True) \n",
    "test[['cat','category1']] = test.category.str.split(expand=True) \n",
    "test[['scat','subcategory1']] = test.subcategory.str.split(expand=True) \n",
    "test[['assg','assigned_to1']] = test.assigned_to.str.split(expand=True) "
   ]
  },
  {
   "cell_type": "code",
   "execution_count": 1648,
   "metadata": {},
   "outputs": [
    {
     "name": "stdout",
     "output_type": "stream",
     "text": [
      "<class 'pandas.core.frame.DataFrame'>\n",
      "RangeIndex: 4918 entries, 0 to 4917\n",
      "Data columns (total 8 columns):\n",
      "priority        4918 non-null object\n",
      "month           4918 non-null int64\n",
      "dayofweek       4918 non-null int64\n",
      "opened_by1      4918 non-null float64\n",
      "location1       4918 non-null float64\n",
      "category1       4905 non-null float64\n",
      "subcategory1    4905 non-null float64\n",
      "assigned_to1    3187 non-null float64\n",
      "dtypes: float64(5), int64(2), object(1)\n",
      "memory usage: 307.5+ KB\n"
     ]
    }
   ],
   "source": [
    "test.drop(['OpBy'], axis=1, inplace=True)\n",
    "test.drop(['opby'], axis=1, inplace=True)\n",
    "test.drop(['opened_by'], axis=1, inplace=True)\n",
    "test['opened_by1'] = test['opened_by1'].astype(float)\n",
    "\n",
    "test.drop(['loc'], axis=1, inplace=True)\n",
    "test.drop(['location'], axis=1, inplace=True)\n",
    "test['location1'] = test['location1'].astype(float)\n",
    "\n",
    "test.drop(['cat'], axis=1, inplace=True)\n",
    "test.drop(['category'], axis=1, inplace=True)\n",
    "test['category1'] = test['category1'].astype(float)\n",
    "\n",
    "test.drop(['scat'], axis=1, inplace=True)\n",
    "test.drop(['subcategory'], axis=1, inplace=True)\n",
    "test['subcategory1'] = test['subcategory1'].astype(float)\n",
    "\n",
    "test.drop(['assg'], axis=1, inplace=True)\n",
    "test.drop(['assigned_to'], axis=1, inplace=True)\n",
    "test['assigned_to1'] = test['assigned_to1'].astype(float)\n",
    "test.info()"
   ]
  },
  {
   "cell_type": "code",
   "execution_count": 1649,
   "metadata": {},
   "outputs": [],
   "source": [
    "# test[['impact1','imp']] = test['impact'].str.split('-',expand=True)\n",
    "# test.drop(['imp'], axis=1, inplace=True)\n",
    "# test.drop(['impact'], axis=1, inplace=True)\n",
    "# test['impact1'] = test['impact1'].astype(float)\n",
    "\n",
    "# test[['urgency1','urg']] = test['urgency'].str.split('-',expand=True)\n",
    "# test.drop(['urg'], axis=1, inplace=True)\n",
    "# test.drop(['urgency'], axis=1, inplace=True)\n",
    "# test['urgency1'] = test['urgency1'].astype(float)\n",
    "\n",
    "test[['priority1','pri']] = test['priority'].str.split('-',expand=True)\n",
    "test.drop(['pri'], axis=1, inplace=True)\n",
    "test.drop(['priority'], axis=1, inplace=True)\n",
    "test['priority1'] = test['priority1'].astype(float)"
   ]
  },
  {
   "cell_type": "code",
   "execution_count": 1650,
   "metadata": {},
   "outputs": [],
   "source": [
    "test['category1'].fillna(test.groupby('location1')['category1'].transform('value_counts'), inplace=True)\n",
    "test['assigned_to1'].fillna(test.groupby('location1')['assigned_to1'].transform('value_counts'), inplace=True)\n",
    "test['subcategory1'].fillna(test.groupby('location1')['subcategory1'].transform('value_counts'), inplace=True)"
   ]
  },
  {
   "cell_type": "code",
   "execution_count": null,
   "metadata": {},
   "outputs": [],
   "source": []
  },
  {
   "cell_type": "code",
   "execution_count": 1651,
   "metadata": {},
   "outputs": [],
   "source": [
    "#\\test['category1'].fillna((test['category1'].value_counts().idxmax()), inplace=True)\n",
    "#test['subcategory1'].fillna((test['subcategory1'].value_counts().idxmax()), inplace=True)\n",
    "#test['opened_by1'].fillna((test['opened_by1'].value_counts().idxmax()), inplace=True)\n",
    "#test['location1'].fillna((test['location1'].value_counts().idxmax()), inplace=True)\n",
    "# test['assigned_to1']=test['assigned_to1'].fillna(125)\n",
    "# test['opened_by1']=test['opened_by1'].fillna(180)\n",
    "# test['location1']=test['location1'].fillna(93)\n"
   ]
  },
  {
   "cell_type": "code",
   "execution_count": 1652,
   "metadata": {},
   "outputs": [],
   "source": [
    "# test['RAC'] = test['opened_by1'].map(str)+\"\"+test['location1'].map(str)+\"\"+test['category1'].map(str)+\"\"+test['subcategory1'].map(str)+\"\"+test['priority1'].map(str)\n",
    "# test['ROC'] = test['location1'].map(str)+\"\"+test['category1'].map(str)+\"\"+test['subcategory1'].map(str)+\"\"+test['priority1'].map(str)+\"\"+test['assigned_to1'].map(str)\n",
    "# test['UC'] = test['opened_by1'].map(str)+\"\"+test['location1'].map(str)+\"\"+test['category1'].map(str)+\"\"+test['subcategory1'].map(str)+\"\"+test['assigned_to1'].map(str)"
   ]
  },
  {
   "cell_type": "code",
   "execution_count": 1653,
   "metadata": {},
   "outputs": [],
   "source": [
    "# z = test['RAC'].value_counts() \n",
    "# z1 = z.to_dict() #converts to dictionary\n",
    "\n",
    "# test['reassignment_count'] = test['RAC'].map(z1) \n",
    "\n",
    "# x = test['ROC'].value_counts() \n",
    "# x1 = x.to_dict() #converts to dictionary\n",
    "\n",
    "# test['reopen_count'] = test['ROC'].map(x1) \n",
    "\n",
    "# y = test['UC'].value_counts() \n",
    "# y1 = y.to_dict() #converts to dictionary\n",
    "\n",
    "# test['update_count'] = test['UC'].map(y1) \n",
    "\n",
    "# test.drop(['RAC'], axis=1, inplace=True)\n",
    "# test.drop(['ROC'], axis=1, inplace=True)\n",
    "# test.drop(['UC'], axis=1, inplace=True)"
   ]
  },
  {
   "cell_type": "code",
   "execution_count": null,
   "metadata": {},
   "outputs": [],
   "source": []
  },
  {
   "cell_type": "code",
   "execution_count": 1654,
   "metadata": {},
   "outputs": [
    {
     "name": "stdout",
     "output_type": "stream",
     "text": [
      "<class 'pandas.core.frame.DataFrame'>\n",
      "RangeIndex: 4918 entries, 0 to 4917\n",
      "Data columns (total 8 columns):\n",
      "month           4918 non-null int64\n",
      "dayofweek       4918 non-null int64\n",
      "opened_by1      4918 non-null float64\n",
      "location1       4918 non-null float64\n",
      "category1       4918 non-null float64\n",
      "subcategory1    4918 non-null float64\n",
      "assigned_to1    4918 non-null float64\n",
      "priority1       4918 non-null float64\n",
      "dtypes: float64(6), int64(2)\n",
      "memory usage: 307.5 KB\n"
     ]
    }
   ],
   "source": [
    "test.info()"
   ]
  },
  {
   "cell_type": "code",
   "execution_count": 1655,
   "metadata": {},
   "outputs": [],
   "source": [
    "# test['category1']=test['category1'].fillna(46)\n",
    "# test['subcategory1']=test['subcategory1'].fillna(174)"
   ]
  },
  {
   "cell_type": "code",
   "execution_count": 1656,
   "metadata": {},
   "outputs": [
    {
     "data": {
      "text/html": [
       "<div>\n",
       "<style scoped>\n",
       "    .dataframe tbody tr th:only-of-type {\n",
       "        vertical-align: middle;\n",
       "    }\n",
       "\n",
       "    .dataframe tbody tr th {\n",
       "        vertical-align: top;\n",
       "    }\n",
       "\n",
       "    .dataframe thead th {\n",
       "        text-align: right;\n",
       "    }\n",
       "</style>\n",
       "<table border=\"1\" class=\"dataframe\">\n",
       "  <thead>\n",
       "    <tr style=\"text-align: right;\">\n",
       "      <th></th>\n",
       "      <th>month</th>\n",
       "      <th>dayofweek</th>\n",
       "      <th>opened_by1</th>\n",
       "      <th>location1</th>\n",
       "      <th>category1</th>\n",
       "      <th>subcategory1</th>\n",
       "      <th>assigned_to1</th>\n",
       "      <th>priority1</th>\n",
       "    </tr>\n",
       "  </thead>\n",
       "  <tbody>\n",
       "    <tr>\n",
       "      <td>0</td>\n",
       "      <td>2</td>\n",
       "      <td>2</td>\n",
       "      <td>301.0</td>\n",
       "      <td>161.0</td>\n",
       "      <td>9.0</td>\n",
       "      <td>164.0</td>\n",
       "      <td>249.0</td>\n",
       "      <td>3.0</td>\n",
       "    </tr>\n",
       "    <tr>\n",
       "      <td>1</td>\n",
       "      <td>2</td>\n",
       "      <td>2</td>\n",
       "      <td>501.0</td>\n",
       "      <td>93.0</td>\n",
       "      <td>23.0</td>\n",
       "      <td>174.0</td>\n",
       "      <td>233.0</td>\n",
       "      <td>3.0</td>\n",
       "    </tr>\n",
       "    <tr>\n",
       "      <td>2</td>\n",
       "      <td>2</td>\n",
       "      <td>2</td>\n",
       "      <td>24.0</td>\n",
       "      <td>161.0</td>\n",
       "      <td>32.0</td>\n",
       "      <td>9.0</td>\n",
       "      <td>219.0</td>\n",
       "      <td>3.0</td>\n",
       "    </tr>\n",
       "    <tr>\n",
       "      <td>3</td>\n",
       "      <td>2</td>\n",
       "      <td>2</td>\n",
       "      <td>24.0</td>\n",
       "      <td>143.0</td>\n",
       "      <td>57.0</td>\n",
       "      <td>170.0</td>\n",
       "      <td>7.0</td>\n",
       "      <td>3.0</td>\n",
       "    </tr>\n",
       "    <tr>\n",
       "      <td>4</td>\n",
       "      <td>2</td>\n",
       "      <td>2</td>\n",
       "      <td>17.0</td>\n",
       "      <td>204.0</td>\n",
       "      <td>57.0</td>\n",
       "      <td>146.0</td>\n",
       "      <td>76.0</td>\n",
       "      <td>3.0</td>\n",
       "    </tr>\n",
       "  </tbody>\n",
       "</table>\n",
       "</div>"
      ],
      "text/plain": [
       "   month  dayofweek  opened_by1  location1  category1  subcategory1  \\\n",
       "0      2          2       301.0      161.0        9.0         164.0   \n",
       "1      2          2       501.0       93.0       23.0         174.0   \n",
       "2      2          2        24.0      161.0       32.0           9.0   \n",
       "3      2          2        24.0      143.0       57.0         170.0   \n",
       "4      2          2        17.0      204.0       57.0         146.0   \n",
       "\n",
       "   assigned_to1  priority1  \n",
       "0         249.0        3.0  \n",
       "1         233.0        3.0  \n",
       "2         219.0        3.0  \n",
       "3           7.0        3.0  \n",
       "4          76.0        3.0  "
      ]
     },
     "execution_count": 1656,
     "metadata": {},
     "output_type": "execute_result"
    }
   ],
   "source": [
    "from sklearn.preprocessing import LabelEncoder,MinMaxScaler,OneHotEncoder\n",
    "# labelencoder = LabelEncoder()\n",
    "\n",
    "#test['made_sla'] = labelencoder.fit_transform(test['made_sla'])\n",
    "# test['contact_type'] = labelencoder.fit_transform(test['contact_type'])\n",
    "\n",
    "# train['assigned_to'] = labelencoder.fit_transform(train['assigned_to'])\n",
    "# train['vendor'] = labelencoder.fit_transform(train['vendor'])\n",
    "#test['knowledge'] = labelencoder.fit_transform(test['knowledge'])\n",
    "# test['notify'] = labelencoder.fit_transform(test['notify'])\n",
    "\n",
    "# test = onehot_encoder.fit_transform(test)\n",
    "# test = pd.get_dummies(test,prefix_sep = '_',drop_first = True)\n",
    "\n",
    "test.head()\n"
   ]
  },
  {
   "cell_type": "code",
   "execution_count": 1657,
   "metadata": {},
   "outputs": [
    {
     "name": "stdout",
     "output_type": "stream",
     "text": [
      "<class 'pandas.core.frame.DataFrame'>\n",
      "RangeIndex: 4918 entries, 0 to 4917\n",
      "Data columns (total 8 columns):\n",
      "month           4918 non-null int64\n",
      "dayofweek       4918 non-null int64\n",
      "opened_by1      4918 non-null float64\n",
      "location1       4918 non-null float64\n",
      "category1       4918 non-null float64\n",
      "subcategory1    4918 non-null float64\n",
      "assigned_to1    4918 non-null float64\n",
      "priority1       4918 non-null float64\n",
      "dtypes: float64(6), int64(2)\n",
      "memory usage: 307.5 KB\n"
     ]
    }
   ],
   "source": [
    "test.info()"
   ]
  },
  {
   "cell_type": "code",
   "execution_count": 1658,
   "metadata": {},
   "outputs": [],
   "source": [
    "# scaler=StandardScaler()\n",
    "# test = scaler.fit_transform(test)"
   ]
  },
  {
   "cell_type": "code",
   "execution_count": 1659,
   "metadata": {},
   "outputs": [],
   "source": [
    "prediction_test=lr.predict(test)"
   ]
  },
  {
   "cell_type": "code",
   "execution_count": 1660,
   "metadata": {},
   "outputs": [],
   "source": [
    "prediction_test=prediction_test.astype(int)"
   ]
  },
  {
   "cell_type": "code",
   "execution_count": 1661,
   "metadata": {},
   "outputs": [
    {
     "name": "stdout",
     "output_type": "stream",
     "text": [
      "(4918, 1)\n"
     ]
    }
   ],
   "source": [
    "my_solution=pd.DataFrame(prediction_test,Id,columns=[\"target_days\"])\n",
    "print(my_solution.shape)"
   ]
  },
  {
   "cell_type": "code",
   "execution_count": 1662,
   "metadata": {},
   "outputs": [],
   "source": [
    "my_solution.to_csv(\"prediction21.csv\",index_label=[\"Id\"])"
   ]
  },
  {
   "cell_type": "code",
   "execution_count": 1663,
   "metadata": {},
   "outputs": [
    {
     "data": {
      "text/plain": [
       "(4918, 1)"
      ]
     },
     "execution_count": 1663,
     "metadata": {},
     "output_type": "execute_result"
    }
   ],
   "source": [
    "my_solution.shape"
   ]
  },
  {
   "cell_type": "code",
   "execution_count": 1664,
   "metadata": {},
   "outputs": [
    {
     "data": {
      "text/plain": [
       "5    3563\n",
       "6    1175\n",
       "7     162\n",
       "8      17\n",
       "9       1\n",
       "Name: target_days, dtype: int64"
      ]
     },
     "execution_count": 1664,
     "metadata": {},
     "output_type": "execute_result"
    }
   ],
   "source": [
    "my_solution['target_days'].value_counts()"
   ]
  },
  {
   "cell_type": "code",
   "execution_count": null,
   "metadata": {},
   "outputs": [],
   "source": []
  },
  {
   "cell_type": "code",
   "execution_count": null,
   "metadata": {},
   "outputs": [],
   "source": []
  }
 ],
 "metadata": {
  "kernelspec": {
   "display_name": "Python 3",
   "language": "python",
   "name": "python3"
  },
  "language_info": {
   "codemirror_mode": {
    "name": "ipython",
    "version": 3
   },
   "file_extension": ".py",
   "mimetype": "text/x-python",
   "name": "python",
   "nbconvert_exporter": "python",
   "pygments_lexer": "ipython3",
   "version": "3.7.4"
  }
 },
 "nbformat": 4,
 "nbformat_minor": 2
}
